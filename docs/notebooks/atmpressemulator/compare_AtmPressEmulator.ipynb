{
 "cells": [
  {
   "cell_type": "markdown",
   "id": "d5d58322-4791-4bff-9c51-916d345e085e",
   "metadata": {},
   "source": [
    "# Pressure atmospheric transparency Emulator : Compare 2 Sites\n",
    "\n",
    "- author : Sylvie Dagoret-Campagne\n",
    "- affiliation : IJCLab/IN2P3/CNRS\n",
    "- creation date : 2023/10/25\n",
    "- last update : 2023/10/25\n",
    "\n",
    "\n",
    "This emulator is based from datagrid of atmospheric transparencies extracted from libradtran"
   ]
  },
  {
   "cell_type": "code",
   "execution_count": null,
   "id": "593c7f95-13c1-4ead-8403-446b5d5d2615",
   "metadata": {
    "tags": []
   },
   "outputs": [],
   "source": [
    "import numpy as np\n",
    "import pandas as pd\n",
    "import os\n",
    "from scipy import interpolate\n",
    "from astropy.io import fits\n",
    "from astropy.table import Table\n",
    "import seaborn as sns\n",
    "import copy\n",
    "\n",
    "from importlib.resources import files"
   ]
  },
  {
   "cell_type": "code",
   "execution_count": null,
   "id": "403f3fc5-9bcf-4a4c-9cf5-7a7ff234bbdb",
   "metadata": {
    "tags": []
   },
   "outputs": [],
   "source": [
    "from atmpressemulator.atmpressemulator import AtmPressEmulator\n",
    "from simpleemulator.simpleatmemulator import Dict_Of_sitesAltitudes,Dict_Of_sitesPressures"
   ]
  },
  {
   "cell_type": "code",
   "execution_count": null,
   "id": "eeb7872a-03c9-421f-8fd7-6ba5c508ff79",
   "metadata": {
    "tags": []
   },
   "outputs": [],
   "source": [
    "import matplotlib.pyplot as plt\n",
    "%matplotlib inline\n",
    "\n",
    "# to enlarge the sizes\n",
    "params = {'legend.fontsize': 'large',\n",
    "          'figure.figsize': (12, 6),\n",
    "         'axes.labelsize': 'xx-large',\n",
    "         'axes.titlesize':'xx-large',\n",
    "         'xtick.labelsize':'xx-large',\n",
    "         'ytick.labelsize':'xx-large'}\n",
    "plt.rcParams.update(params)\n"
   ]
  },
  {
   "cell_type": "code",
   "execution_count": null,
   "id": "276967f2-8c58-4110-83cf-aebc9b4ef95a",
   "metadata": {
    "tags": []
   },
   "outputs": [],
   "source": [
    "import warnings\n",
    "warnings.filterwarnings('ignore')"
   ]
  },
  {
   "cell_type": "code",
   "execution_count": null,
   "id": "014fd068-1459-4a43-aea0-36a227ae0f7b",
   "metadata": {
    "tags": []
   },
   "outputs": [],
   "source": [
    "FLAG_CHECKWITHLIBRADTRAN = False"
   ]
  },
  {
   "cell_type": "code",
   "execution_count": null,
   "id": "ab7e26e2-e4d3-4f0a-8b49-1c6027a14c5e",
   "metadata": {
    "tags": []
   },
   "outputs": [],
   "source": [
    "AIRMASSMIN = 1.0\n",
    "AIRMASSMAX=2.6\n",
    "DAM = 0.2\n",
    "airmasses = np.arange(AIRMASSMIN,AIRMASSMAX,DAM)\n",
    "NAM=len(airmasses)"
   ]
  },
  {
   "cell_type": "code",
   "execution_count": null,
   "id": "e55311c7-c0a6-40a7-910e-93abbac8cfe7",
   "metadata": {
    "tags": []
   },
   "outputs": [],
   "source": [
    "PWVMIN = 0\n",
    "PWVMAX = 11\n",
    "DPWV = 0.5\n",
    "pwvs = np.arange(PWVMIN,PWVMAX,DPWV)\n",
    "NPWV = len(pwvs)"
   ]
  },
  {
   "cell_type": "code",
   "execution_count": null,
   "id": "cf1397ca-abf2-4bf6-bef7-328c211ba50c",
   "metadata": {
    "tags": []
   },
   "outputs": [],
   "source": [
    "pwvs"
   ]
  },
  {
   "cell_type": "code",
   "execution_count": null,
   "id": "72a03ee1-2803-4c21-b2b5-b0202a5bc034",
   "metadata": {
    "tags": []
   },
   "outputs": [],
   "source": [
    "OZMIN = 0\n",
    "OZMAX = 600\n",
    "DOZ   = 50\n",
    "ozs = np.arange(OZMIN,OZMAX,DOZ)\n",
    "NOZ = len(ozs)"
   ]
  },
  {
   "cell_type": "code",
   "execution_count": null,
   "id": "6d864767-8565-4696-a4f5-f077b796ac68",
   "metadata": {
    "tags": []
   },
   "outputs": [],
   "source": [
    "ozs"
   ]
  },
  {
   "cell_type": "code",
   "execution_count": null,
   "id": "279e86c0-24be-4a57-be79-23dc13200181",
   "metadata": {
    "tags": []
   },
   "outputs": [],
   "source": [
    "hls_colors = sns.color_palette(\"hls\", NAM)\n",
    "sns.palplot(hls_colors)"
   ]
  },
  {
   "cell_type": "markdown",
   "id": "ae725422-ec9e-4ee4-bc95-012499cf117c",
   "metadata": {},
   "source": [
    "# Check emulator"
   ]
  },
  {
   "cell_type": "code",
   "execution_count": null,
   "id": "8bf39dcb-64b2-4ef9-a34e-5066d58c7959",
   "metadata": {
    "tags": []
   },
   "outputs": [],
   "source": [
    "Dict_Of_sitesPressures"
   ]
  },
  {
   "cell_type": "markdown",
   "id": "36fecc8f-ceda-4136-9986-a9e0564f6252",
   "metadata": {},
   "source": [
    "### Choose test number\n",
    "\n",
    "the goal is to setup the power of attenuation of P/Pref for O2 absorption"
   ]
  },
  {
   "cell_type": "code",
   "execution_count": null,
   "id": "3651e0ba-0e55-4109-8f85-0ab083251b90",
   "metadata": {
    "tags": []
   },
   "outputs": [],
   "source": [
    "test_num = 1\n",
    "\n",
    "if test_num == 1:\n",
    "    obs_str1 = 'LSST'\n",
    "    std_pressure1 = Dict_Of_sitesPressures[obs_str1]\n",
    "\n",
    "    obs_str2 = 'OMK'\n",
    "    std_pressure2 = Dict_Of_sitesPressures[obs_str2]\n",
    "\n",
    "    label1 = f\"{obs_str1} :  P_std = {std_pressure1:.0f} hPa, P_forced = {std_pressure2:.0f} hPa\"\n",
    "    label2 = f\"{obs_str2} :  P_std = {std_pressure2:.0f} hPa\"\n",
    "elif test_num ==2:\n",
    "    obs_str1 = 'LSST'\n",
    "    std_pressure1 = Dict_Of_sitesPressures[obs_str1]\n",
    "\n",
    "    obs_str2 = 'OSL'\n",
    "    std_pressure2 = Dict_Of_sitesPressures[obs_str2]\n",
    "\n",
    "    label1 = f\"{obs_str1} :  P_std = {std_pressure1:.0f} hPa, P_forced = {std_pressure2:.0f} hPa\"\n",
    "    label2 = f\"{obs_str2} :  P_std = {std_pressure2:.0f} hPa\"\n",
    "    "
   ]
  },
  {
   "cell_type": "code",
   "execution_count": null,
   "id": "20c662f8-d964-4b92-bfb5-a9e14a4e3e9b",
   "metadata": {},
   "outputs": [],
   "source": [
    "emul1 =  AtmPressEmulator(obs_str=obs_str1,pressure = std_pressure2)\n",
    "emul2 =  AtmPressEmulator(obs_str=obs_str2)"
   ]
  },
  {
   "cell_type": "code",
   "execution_count": null,
   "id": "d93ddef0-1570-42a7-8ab2-edc8cf755d14",
   "metadata": {},
   "outputs": [],
   "source": [
    "WL = emul1.GetWL()"
   ]
  },
  {
   "cell_type": "markdown",
   "id": "e7c1cbe1-8c44-4956-ad6d-965a70ffd6c0",
   "metadata": {},
   "source": [
    "## Check emulator with Rayleigh scattering"
   ]
  },
  {
   "cell_type": "code",
   "execution_count": null,
   "id": "39bdd744-1148-46d9-8ebb-6fd2f777fd78",
   "metadata": {},
   "outputs": [],
   "source": [
    "fig, ax = plt.subplots()\n",
    "for idx,am in enumerate(airmasses):\n",
    "\n",
    "    transm1 = emul1.GetRayleighTransparencyArray(WL,am)\n",
    "    transm2 = emul2.GetRayleighTransparencyArray(WL,am)\n",
    "    \n",
    "    if idx == 0:\n",
    "        ax.plot(WL,transm1,\":\",color=hls_colors[idx],label=label1,lw=4)\n",
    "        ax.plot(WL,transm2,\"-\",color=hls_colors[idx],label=label2)\n",
    "    else:\n",
    "        ax.plot(WL,transm1,\":\",color=hls_colors[idx],lw=4)\n",
    "        ax.plot(WL,transm2,\"-\",color=hls_colors[idx])\n",
    "    \n",
    "title = f\"AtmPressEmulator : Rayleigh scattering for different pressures\"\n",
    "ax.set_title(title)\n",
    "ax.set_xlabel(\"$\\lambda$ (nm)\")\n",
    "ax.set_ylabel(\"transmission\")\n",
    "# place a text box in upper left in axes coords\n",
    "#ax.text(0.5, 0.05, textboxstr, transform=ax.transAxes, fontsize=14,verticalalignment='bottom', bbox=textboxprops)\n",
    "ax.grid()\n",
    "ax.legend()\n"
   ]
  },
  {
   "cell_type": "markdown",
   "id": "d5febae6-7e6b-494e-be93-f570def732bc",
   "metadata": {},
   "source": [
    "## Check emulator with Oxygen O2 absorption"
   ]
  },
  {
   "cell_type": "code",
   "execution_count": null,
   "id": "3f837e3b-d029-4f9b-b455-6ef264dc05ed",
   "metadata": {},
   "outputs": [],
   "source": [
    "fig, ax = plt.subplots()\n",
    "for idx,am in enumerate(airmasses):\n",
    "\n",
    "    transm1 = emul1.GetO2absTransparencyArray(WL,am)\n",
    "    transm2 = emul2.GetO2absTransparencyArray(WL,am)\n",
    "    \n",
    "    if idx == 0:\n",
    "        ax.plot(WL,transm1,\":\",color=hls_colors[idx],label=label1,lw=4)\n",
    "        ax.plot(WL,transm2,\"-\",color=hls_colors[idx],label=label2)\n",
    "    else:\n",
    "        ax.plot(WL,transm1,\":\",color=hls_colors[idx],lw=4)\n",
    "        ax.plot(WL,transm2,\"-\",color=hls_colors[idx])\n",
    "        \n",
    "\n",
    "title = f\"AtmPressEmulator : O2 absorption for different pressures\"\n",
    "ax.set_title(title)\n",
    "ax.set_xlabel(\"$\\lambda$ (nm)\")\n",
    "ax.set_ylabel(\"transmission\")\n",
    "ax.set_xlim(600.,800.)\n",
    "# place a text box in upper left in axes coords\n",
    "#ax.text(0.5, 0.05, textboxstr, transform=ax.transAxes, fontsize=14,verticalalignment='bottom', bbox=textboxprops)\n",
    "ax.grid()\n",
    "ax.legend()"
   ]
  },
  {
   "cell_type": "code",
   "execution_count": null,
   "id": "df9320ae-1c09-46cf-9c41-f51baffbdc60",
   "metadata": {
    "tags": []
   },
   "outputs": [],
   "source": [
    "fig, ax = plt.subplots()\n",
    "for idx,am in enumerate(airmasses):\n",
    "\n",
    "    transm1 = emul1.GetO2absTransparencyArray(WL,am)\n",
    "    transm2 = emul2.GetO2absTransparencyArray(WL,am)\n",
    "    \n",
    "    if idx == 0:\n",
    "        ax.plot(WL,transm1,\":\",color=hls_colors[idx],label=label1,lw=4)\n",
    "        ax.plot(WL,transm2,\"-\",color=hls_colors[idx],label=label2)\n",
    "    else:\n",
    "        ax.plot(WL,transm1,\":\",color=hls_colors[idx],lw=4)\n",
    "        ax.plot(WL,transm2,\"-\",color=hls_colors[idx])\n",
    "        \n",
    "\n",
    "title = f\"AtmPressEmulator : O2 absorption for different pressures\"\n",
    "ax.set_title(title)\n",
    "ax.set_xlabel(\"$\\lambda$ (nm)\")\n",
    "ax.set_ylabel(\"transmission\")\n",
    "ax.set_xlim(750.,775.)\n",
    "# place a text box in upper left in axes coords\n",
    "#ax.text(0.5, 0.05, textboxstr, transform=ax.transAxes, fontsize=14,verticalalignment='bottom', bbox=textboxprops)\n",
    "ax.grid()\n",
    "ax.legend()"
   ]
  },
  {
   "cell_type": "markdown",
   "id": "a8985efb-aa83-47c6-bf4b-ca95c9630427",
   "metadata": {},
   "source": [
    "## Check emulator with PWV absorption"
   ]
  },
  {
   "cell_type": "markdown",
   "id": "29d89c7e-b5f6-4315-89b0-b6734b8e1a05",
   "metadata": {},
   "source": [
    "Expect no difference"
   ]
  },
  {
   "cell_type": "code",
   "execution_count": null,
   "id": "60bddbab-27d1-4dc6-815b-15d8bb2adde0",
   "metadata": {},
   "outputs": [],
   "source": [
    "hls_colors = sns.color_palette(\"hls\", NPWV)\n",
    "sns.palplot(hls_colors)"
   ]
  },
  {
   "cell_type": "code",
   "execution_count": null,
   "id": "3421b63d-3603-4bcc-b06a-fb8ba98bf618",
   "metadata": {},
   "outputs": [],
   "source": [
    "am =1\n",
    "\n",
    "fig, ax = plt.subplots()\n",
    "for idx,pwv in enumerate(pwvs):\n",
    "\n",
    "    transm1 = emul1.GetPWVabsTransparencyArray(WL,am,pwv)\n",
    "    transm2 = emul2.GetPWVabsTransparencyArray(WL,am,pwv)\n",
    "    \n",
    "    if idx == 0:\n",
    "        ax.plot(WL,transm1,\":\",color=hls_colors[idx],label=label1,lw=4)\n",
    "        ax.plot(WL,transm2,\"-\",color=hls_colors[idx],label=label2)\n",
    "    else:\n",
    "        ax.plot(WL,transm1,\":\",color=hls_colors[idx],lw=4)\n",
    "        ax.plot(WL,transm2,\"-\",color=hls_colors[idx])\n",
    "        \n",
    "\n",
    "title = f\"AtmPressEmulator : H2O absorption for different pressures, am = {am:.1f}\"\n",
    "ax.set_title(title)\n",
    "ax.set_xlabel(\"$\\lambda$ (nm)\")\n",
    "ax.set_ylabel(\"transmission\")\n",
    "ax.set_xlim(700.,1000.)\n",
    "# place a text box in upper left in axes coords\n",
    "#ax.text(0.5, 0.05, textboxstr, transform=ax.transAxes, fontsize=14,verticalalignment='bottom', bbox=textboxprops)\n",
    "ax.grid()\n",
    "ax.legend()\n",
    "\n"
   ]
  },
  {
   "cell_type": "markdown",
   "id": "a3802a0a-42a2-4aab-8293-8be3d8bb9713",
   "metadata": {},
   "source": [
    "## Check emulator with Ozone absorption\n",
    "\n",
    "- expect no difference"
   ]
  },
  {
   "cell_type": "code",
   "execution_count": null,
   "id": "b025a29c-181c-4a61-ba6c-db908e7b1c63",
   "metadata": {},
   "outputs": [],
   "source": [
    "hls_colors = sns.color_palette(\"hls\", NOZ)\n",
    "sns.palplot(hls_colors)"
   ]
  },
  {
   "cell_type": "code",
   "execution_count": null,
   "id": "f588adf2-d3d2-482c-89e7-b89a1ba9258c",
   "metadata": {
    "tags": []
   },
   "outputs": [],
   "source": [
    "am =1\n",
    "\n",
    "fig, ax = plt.subplots()\n",
    "for idx,oz in enumerate(ozs):\n",
    "\n",
    "    transm1 = emul1.GetOZabsTransparencyArray(WL,am,oz)\n",
    "    transm2 = emul2.GetOZabsTransparencyArray(WL,am,oz)\n",
    "    \n",
    "    if idx == 0:\n",
    "        ax.plot(WL,transm1,\":\",color=hls_colors[idx],label=label1,lw=4)\n",
    "        ax.plot(WL,transm2,\"-\",color=hls_colors[idx],label=label2)\n",
    "    else:\n",
    "        ax.plot(WL,transm1,\":\",color=hls_colors[idx],lw=4)\n",
    "        ax.plot(WL,transm2,\"-\",color=hls_colors[idx])\n",
    "        \n",
    "\n",
    "title = f\"AtmPressEmulator : Ozone absorption for different pressure, am = {am:.1f}\"\n",
    "ax.set_title(title)\n",
    "ax.set_xlabel(\"$\\lambda$ (nm)\")\n",
    "ax.set_ylabel(\"transmission\")\n",
    "ax.set_xlim(300.,800.)\n",
    "ax.set_ylim(0.9,1.0)\n",
    "# place a text box in upper left in axes coords\n",
    "#ax.text(0.5, 0.05, textboxstr, transform=ax.transAxes, fontsize=14,verticalalignment='bottom', bbox=textboxprops)\n",
    "ax.grid()\n",
    "ax.legend()\n",
    "\n"
   ]
  },
  {
   "cell_type": "markdown",
   "id": "e918bf6a-df3f-4e7e-80d2-fb8234e76747",
   "metadata": {},
   "source": [
    "## Check emulator with combined ascattering and absorption process and check with libradtran"
   ]
  },
  {
   "cell_type": "code",
   "execution_count": null,
   "id": "608817ce-d894-4cf5-9429-13b0ae3d9650",
   "metadata": {},
   "outputs": [],
   "source": [
    "am0 = 1.0\n",
    "pwv0 = 5.0\n",
    "oz0 = 500.\n",
    "transm1 = emul1.GetGriddedTransparencies(WL,am0,pwv0,oz0,flagRayleigh=True)\n",
    "transm2 = emul2.GetGriddedTransparencies(WL,am0,pwv0,oz0,flagRayleigh=True)"
   ]
  },
  {
   "cell_type": "code",
   "execution_count": null,
   "id": "7e6f7bba-65b3-49bc-9aaa-10b90dc33403",
   "metadata": {},
   "outputs": [],
   "source": [
    "fig, ax = plt.subplots()\n",
    "\n",
    "ax.plot(WL,transm1,'b-',label=label1)\n",
    "ax.plot(WL,transm2,'r-',label=label2)\n",
    "\n",
    "title = f\"AtmPressEmulator : total transmission, am = {am0:.1f}\"\n",
    "ax.set_title(title)\n",
    "ax.set_xlabel(\"$\\lambda$ (nm)\")\n",
    "ax.set_ylabel(\"transmission\")\n",
    "# place a text box in upper left in axes coords\n",
    "#ax.text(0.5, 0.05, textboxstr, transform=ax.transAxes, fontsize=14,verticalalignment='bottom', bbox=textboxprops)\n",
    "ax.grid()\n",
    "ax.legend()"
   ]
  },
  {
   "cell_type": "code",
   "execution_count": null,
   "id": "9c02a9a8-94c1-4ac8-badf-556e41e18942",
   "metadata": {
    "tags": []
   },
   "outputs": [],
   "source": [
    "fig, ax = plt.subplots()\n",
    "\n",
    "ax.plot(WL,transm1,'b-',label=label1)\n",
    "ax.plot(WL,transm2,'r-',label=label2)\n",
    "\n",
    "title = f\"AtmPressEmulator : total transmission, am = {am0:.1f}\"\n",
    "ax.set_title(title)\n",
    "ax.set_xlabel(\"$\\lambda$ (nm)\")\n",
    "ax.set_ylabel(\"transmission\")\n",
    "ax.set_xlim(660.,800.)\n",
    "# place a text box in upper left in axes coords\n",
    "#ax.text(0.5, 0.05, textboxstr, transform=ax.transAxes, fontsize=14,verticalalignment='bottom', bbox=textboxprops)\n",
    "ax.grid()\n",
    "ax.legend()"
   ]
  }
 ],
 "metadata": {
  "kernelspec": {
   "display_name": "conda_py310",
   "language": "python",
   "name": "conda_py310"
  },
  "language_info": {
   "codemirror_mode": {
    "name": "ipython",
    "version": 3
   },
   "file_extension": ".py",
   "mimetype": "text/x-python",
   "name": "python",
   "nbconvert_exporter": "python",
   "pygments_lexer": "ipython3",
   "version": "3.10.12"
  },
  "vscode": {
   "interpreter": {
    "hash": "b002c99f66c5bb850ebba7ae0c2124f7695114407038504fe88ddf9182cfa7d8"
   }
  }
 },
 "nbformat": 4,
 "nbformat_minor": 5
}
