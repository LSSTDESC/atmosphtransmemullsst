{
 "cells": [
  {
   "cell_type": "markdown",
   "id": "accepting-editor",
   "metadata": {
    "cell_marker": "\"\"\""
   },
   "source": [
    "# Introducing Jupyter Notebooks\n",
    "\n"
   ]
  },
  {
   "cell_type": "code",
   "execution_count": null,
   "id": "actual-thirty",
   "metadata": {
    "tags": []
   },
   "outputs": [],
   "source": [
    "import matplotlib\n",
    "import matplotlib.pyplot as pl\n",
    "import numpy as np\n",
    "\n",
    "try:\n",
    "    from IPython import get_ipython\n",
    "    get_ipython().run_line_magic('matplotlib', 'inline')\n",
    "except AttributeError:\n",
    "    print('Magic function can only be used in IPython environment')\n",
    "    matplotlib.use('Agg')\n",
    "\n",
    "pl.rcParams[\"figure.figsize\"] = [15, 8]"
   ]
  },
  {
   "cell_type": "markdown",
   "id": "fdbdfc56-8a5e-4ebe-9511-7c98bbb117f3",
   "metadata": {},
   "source": [
    "# simpleemulator"
   ]
  },
  {
   "cell_type": "markdown",
   "id": "9cfd7af9-8cfc-4e40-aa1d-3185a3f15728",
   "metadata": {},
   "source": [
    "## Simple tsests of simpleemulator class"
   ]
  },
  {
   "cell_type": "markdown",
   "id": "c30b3481-89cc-427f-82f4-84a4c709abd7",
   "metadata": {},
   "source": [
    "- [Check the datasets grid exists](simpleemulator/check_SimplEmul_datasetgrids.ipynb)\n",
    "- [a very fits test it works](simpleemulator/test_SimpleAtmEmulator.ipynb)\n",
    "- [Check multi observation sites with Rayleigh scattering](simpleemulator/test_SimplEmul_MultiSitesScattPattern.ipynb)\n",
    "- [Check multi observation sites with O2 absorption profiles](simpleemulator/test_SimplEmul_MultiSitesAbsO2Pattern.ipynb)"
   ]
  },
  {
   "cell_type": "markdown",
   "id": "79b20102-71ae-4f5c-a1ef-13769b715332",
   "metadata": {},
   "source": [
    "## Accuracy test of simpleemulator class"
   ]
  },
  {
   "cell_type": "markdown",
   "id": "4c8e21f1-e77b-432e-a995-a5eb5a0780e9",
   "metadata": {},
   "source": [
    "- [accuracy test of simpleemulator class](simpleemulatoraccuracy/check_SimplEmul_interpolationaccuracy.ipynb)"
   ]
  },
  {
   "cell_type": "markdown",
   "id": "6d4435cc-6e9f-4598-8aa1-ff4cba3ed39a",
   "metadata": {},
   "source": [
    "# AtmPressEmulator"
   ]
  },
  {
   "cell_type": "markdown",
   "id": "2036d751-99e8-4eae-ac49-02632b2d20fa",
   "metadata": {},
   "source": [
    "- [test class AtmPressEmulator the emulator that depends on pressure](atmpressemulator/test_AtmPressEmulator.ipynb)\n",
    "- [compare Rayleigh scattering and O2 abosrption profiles in 2 observation sites](atmpressemulator/compare_AtmPressEmulator.ipynb)"
   ]
  },
  {
   "cell_type": "markdown",
   "id": "759a3816-1bfd-4fb7-9ded-bac24fc824b3",
   "metadata": {},
   "source": [
    "# AtmEmulator\n",
    "\n",
    "This is the official endpoint to us"
   ]
  },
  {
   "cell_type": "markdown",
   "id": "92d8902d-d2d9-4d7a-b05c-bde9d3b29fd5",
   "metadata": {},
   "source": [
    "- [test class AtmEmulator the emulator that depends on pressure](atmemulator/test_AtmEmulator.ipynb)"
   ]
  },
  {
   "cell_type": "markdown",
   "id": "ee85776f-55e5-4759-ab4e-15e372a5ef29",
   "metadata": {},
   "source": [
    "## PyExtinction"
   ]
  },
  {
   "cell_type": "markdown",
   "id": "9a661a22-1a12-42cf-89a7-521b9706be61",
   "metadata": {},
   "source": [
    "- [Compare AtmEmylator with pyextinction](pyextinction/compare_AtmEmulator_pyextinction.ipynb)"
   ]
  }
 ],
 "metadata": {
  "jupytext": {
   "cell_markers": "\"\"\""
  },
  "kernelspec": {
   "display_name": "Python 3 (ipykernel)",
   "language": "python",
   "name": "python3"
  },
  "language_info": {
   "codemirror_mode": {
    "name": "ipython",
    "version": 3
   },
   "file_extension": ".py",
   "mimetype": "text/x-python",
   "name": "python",
   "nbconvert_exporter": "python",
   "pygments_lexer": "ipython3",
   "version": "3.11.5"
  }
 },
 "nbformat": 4,
 "nbformat_minor": 5
}
