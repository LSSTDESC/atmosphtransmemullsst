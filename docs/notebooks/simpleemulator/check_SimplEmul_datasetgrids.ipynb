{
 "cells": [
  {
   "cell_type": "markdown",
   "id": "ad5b83a4-2098-4634-8d12-7349533fd28a",
   "metadata": {},
   "source": [
    "# Check simpleemulator data grid\n",
    "===================================================================================\n",
    "\n",
    "- Sylvie Dagoret-Campagne\n",
    "- affliliation : IJCLAB/IN2P3/CNRS\n",
    "- creation date :  25 October 2023\n",
    "- Last verification : October 25th 2023\n",
    "\n",
    "==================================================================================="
   ]
  },
  {
   "cell_type": "code",
   "execution_count": null,
   "id": "4f1df564-005c-4a29-895a-532e98bcb273",
   "metadata": {
    "tags": []
   },
   "outputs": [],
   "source": [
    "# Import some generally useful packages\n",
    "\n",
    "import os\n",
    "import numpy as np\n",
    "import matplotlib.pyplot as plt\n",
    "import matplotlib.colors as colors\n",
    "import matplotlib.cm as cmx\n",
    "%matplotlib inline\n",
    "import pandas as pd\n",
    "from itertools import cycle, islice\n",
    "import seaborn as sns"
   ]
  },
  {
   "cell_type": "code",
   "execution_count": null,
   "id": "92dc331e-fdf0-4f99-82e6-f8f2eff7789c",
   "metadata": {
    "tags": []
   },
   "outputs": [],
   "source": [
    "# to enlarge the sizes\n",
    "params = {'legend.fontsize': 'large',\n",
    "          'figure.figsize': (8, 6),\n",
    "         'axes.labelsize': 'xx-large',\n",
    "         'axes.titlesize':'xx-large',\n",
    "         'xtick.labelsize':'xx-large',\n",
    "         'ytick.labelsize':'xx-large'}\n",
    "plt.rcParams.update(params)\n"
   ]
  },
  {
   "cell_type": "code",
   "execution_count": null,
   "id": "50d4557e-71df-4ddb-b8db-66266f2bbb58",
   "metadata": {
    "tags": []
   },
   "outputs": [],
   "source": [
    "from scipy import interpolate"
   ]
  },
  {
   "cell_type": "code",
   "execution_count": null,
   "id": "fc4171c0-d15b-42d7-a3ee-afdca2b70443",
   "metadata": {
    "tags": []
   },
   "outputs": [],
   "source": [
    "from simpleemulator.simpleatmemulator import SimpleAtmEmulator,find_data_path,final_path_data\n",
    "from simpleemulator.simpleatmemulator import Dict_Of_sitesAltitudes,Dict_Of_sitesPressures"
   ]
  },
  {
   "cell_type": "code",
   "execution_count": null,
   "id": "3fc850ad-7683-49ac-b5bf-dc1ebccd5247",
   "metadata": {
    "tags": []
   },
   "outputs": [],
   "source": [
    "import warnings\n",
    "warnings.filterwarnings('ignore')"
   ]
  },
  {
   "cell_type": "code",
   "execution_count": null,
   "id": "aa707ad7-2542-40d0-b915-0deafc3dc2aa",
   "metadata": {
    "tags": []
   },
   "outputs": [],
   "source": [
    "List_Of_All_sites = list(Dict_Of_sitesPressures.keys()) \n",
    "List_Of_All_sites "
   ]
  },
  {
   "cell_type": "markdown",
   "id": "72876c69-3b84-46f7-a7c9-b2852e13ecba",
   "metadata": {},
   "source": [
    "# Configuration"
   ]
  },
  {
   "cell_type": "code",
   "execution_count": null,
   "id": "fc6bde77-4fa9-4b9c-b44e-81df555586e4",
   "metadata": {
    "tags": []
   },
   "outputs": [],
   "source": [
    "site = 'LSST'\n",
    "#path = find_data_path()\n",
    "path = final_path_data\n",
    "emul  = SimpleAtmEmulator(obs_str=site)"
   ]
  },
  {
   "cell_type": "code",
   "execution_count": null,
   "id": "73c18d6b-3b4f-4c4d-8d21-6f4c1b5e68f4",
   "metadata": {},
   "outputs": [],
   "source": [
    "file1_in = os.path.join(path,emul.fn_rayleigh)"
   ]
  },
  {
   "cell_type": "code",
   "execution_count": null,
   "id": "6c76a481-b0e2-4615-950a-663ce9b59864",
   "metadata": {},
   "outputs": [],
   "source": [
    "file2_in = os.path.join(path,emul.fn_O2abs)"
   ]
  },
  {
   "cell_type": "code",
   "execution_count": null,
   "id": "8eef9c0f-a4bf-47c2-bfa1-2ebd95bbc77c",
   "metadata": {},
   "outputs": [],
   "source": [
    "file3_in = os.path.join(path,emul.fn_PWVabs)"
   ]
  },
  {
   "cell_type": "code",
   "execution_count": null,
   "id": "64d3710c-3d5a-4cee-84ee-571966d51826",
   "metadata": {},
   "outputs": [],
   "source": [
    "file4_in = os.path.join(path,emul.fn_OZabs)"
   ]
  },
  {
   "cell_type": "markdown",
   "id": "215aee89-1fbb-4d77-ac15-4fd8e9f8f258",
   "metadata": {},
   "source": [
    "### wavelength"
   ]
  },
  {
   "cell_type": "code",
   "execution_count": null,
   "id": "b9c0ed65-7dca-4d21-a0f1-82f3465b7c72",
   "metadata": {
    "tags": []
   },
   "outputs": [],
   "source": [
    "emul.WLMIN"
   ]
  },
  {
   "cell_type": "code",
   "execution_count": null,
   "id": "a558dccb-2421-48af-9ffe-c6176a2be4c4",
   "metadata": {},
   "outputs": [],
   "source": [
    "WLMIN = emul.WLMIN\n",
    "WLMAX = emul.WLMAX\n",
    "WLBIN = emul.WLBIN\n",
    "NWLBIN = emul.NWLBIN\n",
    "WL= emul.GetWL()"
   ]
  },
  {
   "cell_type": "markdown",
   "id": "324dcff1-047b-4e1a-97e0-14634ae06e0c",
   "metadata": {},
   "source": [
    "### airmass"
   ]
  },
  {
   "cell_type": "code",
   "execution_count": null,
   "id": "acf4ad7e-6da9-4f83-aa4a-504c2893f9f3",
   "metadata": {},
   "outputs": [],
   "source": [
    "AIRMASSMIN = emul.AIRMASSMIN\n",
    "AIRMASSMAX= emul.AIRMASSMAX\n",
    "DAM = emul.DAIRMASS"
   ]
  },
  {
   "cell_type": "code",
   "execution_count": null,
   "id": "62723682-fe53-48f8-818b-10796a21f281",
   "metadata": {},
   "outputs": [],
   "source": [
    "airmasses = np.arange(AIRMASSMIN,AIRMASSMAX,DAM)"
   ]
  },
  {
   "cell_type": "code",
   "execution_count": null,
   "id": "50365a31-2bcc-4363-b049-778db0413cb6",
   "metadata": {},
   "outputs": [],
   "source": [
    "airmasses"
   ]
  },
  {
   "cell_type": "code",
   "execution_count": null,
   "id": "9b07c51a-5292-4d4e-89b8-65c10e1d7ceb",
   "metadata": {},
   "outputs": [],
   "source": [
    "NAM=len(airmasses)"
   ]
  },
  {
   "cell_type": "code",
   "execution_count": null,
   "id": "e3271653-0cd3-450d-b232-cc56fa14e10f",
   "metadata": {},
   "outputs": [],
   "source": [
    "sequential_colors = sns.color_palette(\"hls\", NAM)"
   ]
  },
  {
   "cell_type": "code",
   "execution_count": null,
   "id": "be68a572-26d5-4b96-9f69-c3ca395cb162",
   "metadata": {},
   "outputs": [],
   "source": [
    "sns.palplot(sequential_colors)"
   ]
  },
  {
   "cell_type": "code",
   "execution_count": null,
   "id": "7a49630a-52fc-4462-9684-8695ca2ea4a1",
   "metadata": {},
   "outputs": [],
   "source": [
    "airmass_training = airmasses\n",
    "airmass_test = airmasses + DAM/2."
   ]
  },
  {
   "cell_type": "code",
   "execution_count": null,
   "id": "1f6c8b49-6ce8-4af1-ad8d-6392c96b7f07",
   "metadata": {},
   "outputs": [],
   "source": [
    "NX=len(airmasses)\n",
    "NY=NWLBIN"
   ]
  },
  {
   "cell_type": "markdown",
   "id": "5c26a7b8-7ac9-4f34-afcc-50837ee58662",
   "metadata": {},
   "source": [
    "### PWV"
   ]
  },
  {
   "cell_type": "code",
   "execution_count": null,
   "id": "76362bc5-c3e4-40c6-9b90-a36f2b346036",
   "metadata": {},
   "outputs": [],
   "source": [
    "PWVMIN = emul.PWVMIN\n",
    "PWVMAX = emul.PWVMAX\n",
    "DPWV = emul.DPWV"
   ]
  },
  {
   "cell_type": "code",
   "execution_count": null,
   "id": "821828bf-ab65-43c4-b21b-6ff42af56de2",
   "metadata": {},
   "outputs": [],
   "source": [
    "pwvs = np.arange(PWVMIN,PWVMAX,DPWV)"
   ]
  },
  {
   "cell_type": "code",
   "execution_count": null,
   "id": "ce9b002d-6ec2-45bd-99bf-2404eebb9a3f",
   "metadata": {},
   "outputs": [],
   "source": [
    "NPWV = len(pwvs)"
   ]
  },
  {
   "cell_type": "markdown",
   "id": "6bdaaecf-e785-4624-9c28-c290b120e9fe",
   "metadata": {},
   "source": [
    "### OZON"
   ]
  },
  {
   "cell_type": "code",
   "execution_count": null,
   "id": "85e36735-5b2d-48a4-9ae6-0b56d5ef0e9c",
   "metadata": {},
   "outputs": [],
   "source": [
    "OZMIN = emul.OZMIN\n",
    "OZMAX = emul.OZMAX\n",
    "DOZ   = emul.DOZ"
   ]
  },
  {
   "cell_type": "code",
   "execution_count": null,
   "id": "36739a3a-4762-4a5e-ac57-0e6c065b7483",
   "metadata": {},
   "outputs": [],
   "source": [
    "ozs = np.arange(OZMIN,OZMAX,DOZ)"
   ]
  },
  {
   "cell_type": "code",
   "execution_count": null,
   "id": "fa32ccdf-a051-4c31-b4eb-92cf2b7bd2e2",
   "metadata": {},
   "outputs": [],
   "source": [
    "NOZ = len(ozs)"
   ]
  },
  {
   "cell_type": "markdown",
   "id": "079fe258-f52d-4626-939d-fe58dccb698c",
   "metadata": {},
   "source": [
    "### Data"
   ]
  },
  {
   "cell_type": "code",
   "execution_count": null,
   "id": "6c846448-fdf5-4dee-90c8-ef6be6dccd4e",
   "metadata": {},
   "outputs": [],
   "source": [
    "with open(file1_in, 'rb') as f:\n",
    "    data_rayleigh=np.load(f)\n",
    "with open(file2_in, 'rb') as f:    \n",
    "    data_O2abs = np.load(f)\n",
    "with open(file3_in, 'rb') as f:  \n",
    "    data_H2Oabs=np.load(f)\n",
    "with open(file4_in, 'rb') as f:     \n",
    "    data_OZabs_test=np.load(f)"
   ]
  },
  {
   "cell_type": "code",
   "execution_count": null,
   "id": "97563822-8aab-40cd-aff0-282d5adbbe0b",
   "metadata": {},
   "outputs": [],
   "source": [
    "plt.plot(WL,data_rayleigh[:,:]);\n",
    "plt.title(\"Rayleigh profiles\")"
   ]
  },
  {
   "cell_type": "code",
   "execution_count": null,
   "id": "88e1496c-0b83-4439-bb0f-e36a847ec203",
   "metadata": {},
   "outputs": [],
   "source": [
    "plt.plot(WL,data_O2abs[:,:]);\n",
    "plt.title(\"O2 absorption profiles\")"
   ]
  },
  {
   "cell_type": "code",
   "execution_count": null,
   "id": "75efb0d0-e7d0-4faf-bcb7-62aee78b4334",
   "metadata": {},
   "outputs": [],
   "source": [
    "plt.plot(WL,data_H2Oabs[:,:,5],'r');\n",
    "plt.plot(WL,data_H2Oabs[:,:,9],'b');\n",
    "plt.title(\"H2O absorption  profiles\")"
   ]
  },
  {
   "cell_type": "code",
   "execution_count": null,
   "id": "407f0f55-0072-434e-a30c-745f695b2a92",
   "metadata": {},
   "outputs": [],
   "source": [
    "plt.plot(WL,data_H2Oabs[:,1,5],'r');\n",
    "plt.plot(WL,data_H2Oabs[:,8,5],'b');\n",
    "plt.title(\"H2O absorption profiles\")"
   ]
  },
  {
   "cell_type": "code",
   "execution_count": null,
   "id": "dd05f630-5192-4e83-ba96-891fdcf72753",
   "metadata": {},
   "outputs": [],
   "source": []
  }
 ],
 "metadata": {
  "kernelspec": {
   "display_name": "conda_py310",
   "language": "python",
   "name": "conda_py310"
  },
  "language_info": {
   "codemirror_mode": {
    "name": "ipython",
    "version": 3
   },
   "file_extension": ".py",
   "mimetype": "text/x-python",
   "name": "python",
   "nbconvert_exporter": "python",
   "pygments_lexer": "ipython3",
   "version": "3.10.12"
  },
  "toc": {
   "base_numbering": 1,
   "nav_menu": {},
   "number_sections": true,
   "sideBar": true,
   "skip_h1_title": false,
   "title_cell": "Table of Contents",
   "title_sidebar": "Contents",
   "toc_cell": false,
   "toc_position": {},
   "toc_section_display": true,
   "toc_window_display": false
  }
 },
 "nbformat": 4,
 "nbformat_minor": 5
}
