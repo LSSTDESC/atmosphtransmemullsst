{
 "cells": [
  {
   "cell_type": "markdown",
   "id": "d5d58322-4791-4bff-9c51-916d345e085e",
   "metadata": {},
   "source": [
    "# Test the Simple atmospheric transparency Emulator\n",
    "\n",
    "- author : Sylvie Dagoret-Campagne\n",
    "- affiliation : IJCLab/IN2P3/CNRS\n",
    "- creation date : 2023/02/10\n",
    "- last update : 2023/10/25\n",
    "\n",
    "\n",
    "This emulator is based from datagrid of atmospheric transparencies extracted from libradtran"
   ]
  },
  {
   "cell_type": "markdown",
   "id": "97fec852-a16c-4033-8a84-9f5c2952c498",
   "metadata": {},
   "source": [
    "- access to data see https://setuptools.pypa.io/en/latest/userguide/datafiles.html"
   ]
  },
  {
   "cell_type": "code",
   "execution_count": null,
   "id": "593c7f95-13c1-4ead-8403-446b5d5d2615",
   "metadata": {
    "tags": [],
    "pycharm": {
     "is_executing": true
    }
   },
   "outputs": [],
   "source": [
    "import numpy as np\n",
    "import pandas as pd\n",
    "import os\n",
    "from scipy import interpolate\n",
    "from astropy.io import fits\n",
    "from astropy.table import Table\n",
    "import seaborn as sns\n",
    "import copy\n",
    "\n",
    "from importlib.resources import files"
   ]
  },
  {
   "cell_type": "code",
   "execution_count": null,
   "id": "403f3fc5-9bcf-4a4c-9cf5-7a7ff234bbdb",
   "metadata": {
    "tags": []
   },
   "outputs": [],
   "source": [
    "from simpleemulator.simpleatmemulator import SimpleAtmEmulator,find_data_path\n",
    "from simpleemulator.simpleatmemulator import Dict_Of_sitesAltitudes,Dict_Of_sitesPressures"
   ]
  },
  {
   "cell_type": "code",
   "execution_count": null,
   "id": "eeb7872a-03c9-421f-8fd7-6ba5c508ff79",
   "metadata": {
    "tags": []
   },
   "outputs": [],
   "source": [
    "import matplotlib.pyplot as plt\n",
    "%matplotlib inline\n",
    "\n",
    "# to enlarge the sizes\n",
    "params = {'legend.fontsize': 'large',\n",
    "          'figure.figsize': (16, 8),\n",
    "         'axes.labelsize': 'xx-large',\n",
    "         'axes.titlesize':'xx-large',\n",
    "         'xtick.labelsize':'xx-large',\n",
    "         'ytick.labelsize':'xx-large'}\n",
    "plt.rcParams.update(params)\n"
   ]
  },
  {
   "cell_type": "code",
   "execution_count": null,
   "id": "276967f2-8c58-4110-83cf-aebc9b4ef95a",
   "metadata": {
    "tags": []
   },
   "outputs": [],
   "source": [
    "import warnings\n",
    "warnings.filterwarnings('ignore')"
   ]
  },
  {
   "cell_type": "code",
   "execution_count": null,
   "id": "014fd068-1459-4a43-aea0-36a227ae0f7b",
   "metadata": {
    "tags": []
   },
   "outputs": [],
   "source": [
    "FLAG_CHECKWITHLIBRADTRAN = False"
   ]
  },
  {
   "cell_type": "code",
   "execution_count": null,
   "id": "ab7e26e2-e4d3-4f0a-8b49-1c6027a14c5e",
   "metadata": {
    "tags": []
   },
   "outputs": [],
   "source": [
    "AIRMASSMIN=1.0\n",
    "AIRMASSMAX=2.6\n",
    "DAM = 0.2\n",
    "airmasses = np.arange(AIRMASSMIN,AIRMASSMAX,DAM)\n",
    "NAM=len(airmasses)"
   ]
  },
  {
   "cell_type": "code",
   "execution_count": null,
   "id": "e55311c7-c0a6-40a7-910e-93abbac8cfe7",
   "metadata": {
    "tags": []
   },
   "outputs": [],
   "source": [
    "PWVMIN = 0\n",
    "PWVMAX = 11\n",
    "DPWV = 0.5\n",
    "pwvs = np.arange(PWVMIN,PWVMAX,DPWV)\n",
    "NPWV = len(pwvs)"
   ]
  },
  {
   "cell_type": "code",
   "execution_count": null,
   "id": "cf1397ca-abf2-4bf6-bef7-328c211ba50c",
   "metadata": {
    "tags": []
   },
   "outputs": [],
   "source": [
    "pwvs"
   ]
  },
  {
   "cell_type": "code",
   "execution_count": null,
   "id": "72a03ee1-2803-4c21-b2b5-b0202a5bc034",
   "metadata": {
    "tags": []
   },
   "outputs": [],
   "source": [
    "OZMIN = 0\n",
    "OZMAX = 600\n",
    "DOZ   = 50\n",
    "ozs = np.arange(OZMIN,OZMAX,DOZ)\n",
    "NOZ = len(ozs)"
   ]
  },
  {
   "cell_type": "code",
   "execution_count": null,
   "id": "6d864767-8565-4696-a4f5-f077b796ac68",
   "metadata": {
    "tags": []
   },
   "outputs": [],
   "source": [
    "ozs"
   ]
  },
  {
   "cell_type": "code",
   "execution_count": null,
   "id": "279e86c0-24be-4a57-be79-23dc13200181",
   "metadata": {
    "tags": []
   },
   "outputs": [],
   "source": [
    "hls_colors = sns.color_palette(\"hls\", NAM)\n",
    "sns.palplot(hls_colors)"
   ]
  },
  {
   "cell_type": "markdown",
   "id": "ae725422-ec9e-4ee4-bc95-012499cf117c",
   "metadata": {},
   "source": [
    "# Check emulator"
   ]
  },
  {
   "cell_type": "code",
   "execution_count": null,
   "id": "3651e0ba-0e55-4109-8f85-0ab083251b90",
   "metadata": {
    "tags": []
   },
   "outputs": [],
   "source": [
    "#path_data =  find_data_path()  \n",
    "#print(\"path_data = \",path_data)\n",
    "#print(path_data)"
   ]
  },
  {
   "cell_type": "code",
   "execution_count": null,
   "id": "20c662f8-d964-4b92-bfb5-a9e14a4e3e9b",
   "metadata": {},
   "outputs": [],
   "source": [
    "emul = SimpleAtmEmulator()"
   ]
  },
  {
   "cell_type": "code",
   "execution_count": null,
   "id": "d93ddef0-1570-42a7-8ab2-edc8cf755d14",
   "metadata": {},
   "outputs": [],
   "source": [
    "WL = emul.GetWL()"
   ]
  },
  {
   "cell_type": "markdown",
   "id": "e7c1cbe1-8c44-4956-ad6d-965a70ffd6c0",
   "metadata": {},
   "source": [
    "## Check emulator with Rayleigh scattering"
   ]
  },
  {
   "cell_type": "code",
   "execution_count": null,
   "id": "39bdd744-1148-46d9-8ebb-6fd2f777fd78",
   "metadata": {},
   "outputs": [],
   "source": [
    "fig, ax = plt.subplots()\n",
    "for idx,am in enumerate(airmasses):\n",
    "    label = f\"am = {am:.1f}\" \n",
    "    transm = emul.GetRayleighTransparencyArray(WL,am)\n",
    "    ax.plot(WL,transm,color=hls_colors[idx],label=label)\n",
    "title = f\"SimpleAtmEmulator : Rayleigh scattering profile\"\n",
    "ax.set_title(title)\n",
    "ax.set_xlabel(\"$\\lambda$ (nm)\")\n",
    "ax.set_ylabel(\"transmission\")\n",
    "# place a text box in upper left in axes coords\n",
    "#ax.text(0.5, 0.05, textboxstr, transform=ax.transAxes, fontsize=14,verticalalignment='bottom', bbox=textboxprops)\n",
    "ax.grid()\n",
    "ax.legend()"
   ]
  },
  {
   "cell_type": "markdown",
   "id": "d5febae6-7e6b-494e-be93-f570def732bc",
   "metadata": {},
   "source": [
    "## Check emulator with Oxygen O2 absorption"
   ]
  },
  {
   "cell_type": "code",
   "execution_count": null,
   "id": "3f837e3b-d029-4f9b-b455-6ef264dc05ed",
   "metadata": {},
   "outputs": [],
   "source": [
    "fig, ax = plt.subplots()\n",
    "for idx,am in enumerate(airmasses):\n",
    "    transm = emul.GetO2absTransparencyArray(WL,am)\n",
    "    label = f\"am = {am:.1f}\" \n",
    "    ax.plot(WL,transm,color=hls_colors[idx],label=label)\n",
    "title = f\"SimpleAtmEmulator : O2 absorption profile\"\n",
    "ax.set_title(title)\n",
    "ax.set_xlabel(\"$\\lambda$ (nm)\")\n",
    "ax.set_ylabel(\"transmission\")\n",
    "ax.set_xlim(600.,800.)\n",
    "# place a text box in upper left in axes coords\n",
    "#ax.text(0.5, 0.05, textboxstr, transform=ax.transAxes, fontsize=14,verticalalignment='bottom', bbox=textboxprops)\n",
    "ax.grid()\n",
    "ax.legend()"
   ]
  },
  {
   "cell_type": "markdown",
   "id": "a8985efb-aa83-47c6-bf4b-ca95c9630427",
   "metadata": {},
   "source": [
    "## Check emulator with PWV absorption"
   ]
  },
  {
   "cell_type": "code",
   "execution_count": null,
   "id": "60bddbab-27d1-4dc6-815b-15d8bb2adde0",
   "metadata": {},
   "outputs": [],
   "source": [
    "hls_colors = sns.color_palette(\"hls\", NPWV)\n",
    "sns.palplot(hls_colors)"
   ]
  },
  {
   "cell_type": "code",
   "execution_count": null,
   "id": "3421b63d-3603-4bcc-b06a-fb8ba98bf618",
   "metadata": {},
   "outputs": [],
   "source": [
    "am = 1\n",
    "fig, ax = plt.subplots()\n",
    "\n",
    "for idx,pwv in enumerate(pwvs):\n",
    "\n",
    "    transm = emul.GetPWVabsTransparencyArray(WL,am,pwv)\n",
    "    ax.plot(WL,transm,color=hls_colors[idx])\n",
    "    \n",
    "title = f\"SimpleAtmEmulator : H2O absorption profile, airmass = {am:.1f}\"\n",
    "ax.set_title(title)\n",
    "ax.set_xlabel(\"$\\lambda$ (nm)\")\n",
    "ax.set_ylabel(\"transmission\")\n",
    "ax.set_xlim(700.,1000.)\n",
    "# place a text box in upper left in axes coords\n",
    "#ax.text(0.5, 0.05, textboxstr, transform=ax.transAxes, fontsize=14,verticalalignment='bottom', bbox=textboxprops)\n",
    "ax.grid()\n",
    "ax.legend()"
   ]
  },
  {
   "cell_type": "markdown",
   "id": "a3802a0a-42a2-4aab-8293-8be3d8bb9713",
   "metadata": {},
   "source": [
    "## Check emulator with Ozone absorption"
   ]
  },
  {
   "cell_type": "code",
   "execution_count": null,
   "id": "b025a29c-181c-4a61-ba6c-db908e7b1c63",
   "metadata": {},
   "outputs": [],
   "source": [
    "hls_colors = sns.color_palette(\"hls\", NOZ)\n",
    "sns.palplot(hls_colors)"
   ]
  },
  {
   "cell_type": "code",
   "execution_count": null,
   "id": "8d2d01e4-2290-4d7f-80a9-e58914e7e03e",
   "metadata": {},
   "outputs": [],
   "source": [
    "am =1\n",
    "\n",
    "fig, ax = plt.subplots()\n",
    "\n",
    "for idx,oz in enumerate(ozs):\n",
    "\n",
    "    transm = emul.GetOZabsTransparencyArray(WL,am,oz)\n",
    "    ax.plot(WL,transm,color=hls_colors[idx])\n",
    "    \n",
    "itle = f\"SimpleAtmEmulator : Ozone absorption profile, am = {am:.1f}\"\n",
    "ax.set_title(title)\n",
    "ax.set_xlabel(\"$\\lambda$ (nm)\")\n",
    "ax.set_ylabel(\"transmission\")\n",
    "ax.set_xlim(300.,800.)\n",
    "ax.set_ylim(0.9,1.0)\n",
    "# place a text box in upper left in axes coords\n",
    "#ax.text(0.5, 0.05, textboxstr, transform=ax.transAxes, fontsize=14,verticalalignment='bottom', bbox=textboxprops)\n",
    "ax.grid()\n",
    "ax.legend()"
   ]
  },
  {
   "cell_type": "markdown",
   "id": "e918bf6a-df3f-4e7e-80d2-fb8234e76747",
   "metadata": {},
   "source": [
    "## Check emulator with combined ascattering and absorption process and check with libradtran"
   ]
  },
  {
   "cell_type": "code",
   "execution_count": null,
   "id": "608817ce-d894-4cf5-9429-13b0ae3d9650",
   "metadata": {},
   "outputs": [],
   "source": [
    "am0 = 1.0\n",
    "pwv0 = 5.0\n",
    "oz0 = 500.\n",
    "transm1 = emul.GetGriddedTransparencies(WL,am0,pwv0,oz0,flagRayleigh=True)\n",
    "label1=f\"emulator : airmass = {am0:.2f}, pwv  = {pwv0:.2f} mm , oz = {oz0:.1f} DU\""
   ]
  },
  {
   "cell_type": "code",
   "execution_count": null,
   "id": "42792d73-d348-4329-9a88-03fc55ef1323",
   "metadata": {},
   "outputs": [],
   "source": [
    "am1 = 2.0\n",
    "pwv1 = 5.0\n",
    "oz1 = 500.\n",
    "transm2 = emul.GetGriddedTransparencies(WL,am1,pwv1,oz1,flagRayleigh=True)\n",
    "label2=f\"emulator : airmass = {am1:.2f},  pwv  = {pwv1:.2f} mm , oz = {oz1:.1f} DU\""
   ]
  },
  {
   "cell_type": "code",
   "execution_count": null,
   "id": "7e6f7bba-65b3-49bc-9aaa-10b90dc33403",
   "metadata": {},
   "outputs": [],
   "source": [
    "fig, ax = plt.subplots()\n",
    "\n",
    "ax.plot(WL,transm1,'b-',label=label1)\n",
    "ax.plot(WL,transm2,'r-',label=label2)\n",
    "\n",
    "title = f\"SimpleAtmEmulator : total transmission, am = {am0:.1f}\"\n",
    "ax.set_title(title)\n",
    "ax.set_xlabel(\"$\\lambda$ (nm)\")\n",
    "ax.set_ylabel(\"transmission\")\n",
    "# place a text box in upper left in axes coords\n",
    "#ax.text(0.5, 0.05, textboxstr, transform=ax.transAxes, fontsize=14,verticalalignment='bottom', bbox=textboxprops)\n",
    "ax.grid()\n",
    "ax.legend()\n"
   ]
  },
  {
   "cell_type": "code",
   "execution_count": null,
   "id": "895681b8-805a-4637-a07d-c7a56b4a48e5",
   "metadata": {},
   "outputs": [],
   "source": [
    "if FLAG_CHECKWITHLIBRADTRAN:\n",
    "    path,thefile = libsimulateVisible.ProcessSimulation(am0,pwv0,oz0,0,prof_str='us',proc_str='sa',cloudext=0.0, FLAG_VERBOSE=False)\n",
    "    data1 = np.loadtxt(os.path.join(path,thefile))\n",
    "    path,thefile = libsimulateVisible.ProcessSimulation(am1,pwv1,oz1,0,prof_str='us',proc_str='sa',cloudext=0.0, FLAG_VERBOSE=False)\n",
    "    data2 = np.loadtxt(os.path.join(path,thefile))"
   ]
  },
  {
   "cell_type": "code",
   "execution_count": null,
   "id": "36f8db7e-a063-450a-a9a2-2b53215f181d",
   "metadata": {},
   "outputs": [],
   "source": [
    "if FLAG_CHECKWITHLIBRADTRAN:\n",
    "    plt.figure(figsize=(14,8))\n",
    "    plt.plot(WL,transm1,'b-',label=label0)\n",
    "    plt.plot(data1[:,0],data1[:,1],'k:',label=\"librandtran\")\n",
    "    plt.plot(WL,transm2,'r-',label=label1)\n",
    "    plt.plot(data2[:,0],data2[:,1],'k-.',label=\"libradtran\")\n",
    "    plt.legend()"
   ]
  },
  {
   "cell_type": "markdown",
   "id": "c6a58e03-059a-4d1f-a95a-6d4221e497c8",
   "metadata": {},
   "source": [
    "## Check with aerosols"
   ]
  },
  {
   "cell_type": "code",
   "execution_count": null,
   "id": "3d289b8d-d3fa-4a88-912c-a68f7e53f32c",
   "metadata": {},
   "outputs": [],
   "source": [
    "hls_colors = sns.color_palette(\"hls\", NAM)\n",
    "sns.palplot(hls_colors)"
   ]
  },
  {
   "cell_type": "code",
   "execution_count": null,
   "id": "0119960c-c3fb-4a55-a33b-f4bf0ffcb752",
   "metadata": {},
   "outputs": [],
   "source": [
    "ncomp=0\n",
    "\n",
    "fig, ax = plt.subplots()\n",
    "for idx,am in enumerate(airmasses):\n",
    "\n",
    "    transm = emul.GetAerosolsTransparencies(WL,am,ncomp)\n",
    "    ax.plot(WL,transm,color=hls_colors[idx])\n",
    "    \n",
    "ax.set_ylim(0,1.1)\n",
    "\n",
    "title = f\"SimpleAtmEmulator : no aerosol transmission, am = {am0:.1f}\"\n",
    "ax.set_title(title)\n",
    "ax.set_xlabel(\"$\\lambda$ (nm)\")\n",
    "ax.set_ylabel(\"transmission\")\n",
    "# place a text box in upper left in axes coords\n",
    "#ax.text(0.5, 0.05, textboxstr, transform=ax.transAxes, fontsize=14,verticalalignment='bottom', bbox=textboxprops)\n",
    "ax.grid()\n",
    "ax.legend()"
   ]
  },
  {
   "cell_type": "code",
   "execution_count": null,
   "id": "3ff7263c-b543-4078-8b5f-c667b4dd0d4d",
   "metadata": {},
   "outputs": [],
   "source": [
    "taus = [0.05, 0.01]\n",
    "betas = [- 1.0, -2]\n",
    "ncomp=2\n",
    "\n",
    "fig, ax = plt.subplots()\n",
    "for idx,am in enumerate(airmasses):\n",
    "\n",
    "    transm = emul.GetAerosolsTransparencies(WL,am,ncomp,taus,betas)\n",
    "    label = f\"am = {am:.1f}\"\n",
    "    ax.plot(WL,transm,color=hls_colors[idx],label=label)\n",
    "    \n",
    "ax.set_ylim(0,1)\n",
    "title = f\"SimpleAtmEmulator : two components aerosols at different airmasses\"\n",
    "ax.set_title(title)\n",
    "ax.set_xlabel(\"$\\lambda$ (nm)\")\n",
    "ax.set_ylabel(\"transmission\")\n",
    "# place a text box in upper left in axes coords\n",
    "#ax.text(0.5, 0.05, textboxstr, transform=ax.transAxes, fontsize=14,verticalalignment='bottom', bbox=textboxprops)\n",
    "ax.grid()\n",
    "ax.legend()"
   ]
  },
  {
   "cell_type": "code",
   "execution_count": null,
   "id": "2dd2a4c5-28d3-4614-9e5f-1f2660f83172",
   "metadata": {},
   "outputs": [],
   "source": [
    "all_taus = [0.01, 0.05, 0.1]\n",
    "betas = [- 1.0]\n",
    "beta = betas[0]\n",
    "ncomp=1\n",
    "am=1\n",
    "\n",
    "NTAUS = len(all_taus)\n",
    "\n",
    "hls_colors = sns.color_palette(\"hls\", NTAUS)\n",
    "sns.palplot(hls_colors)"
   ]
  },
  {
   "cell_type": "code",
   "execution_count": null,
   "id": "e905c435-cdaa-4776-a987-d0b3ad21dec3",
   "metadata": {},
   "outputs": [],
   "source": [
    "am  = 1\n",
    "\n",
    "fig, ax = plt.subplots()\n",
    "for idx,tau in enumerate(all_taus):\n",
    "    taus = [tau]\n",
    "    label = f\"$\\\\tau$ = {tau:.2f} , $\\\\beta$ =  {beta:.2f}\"\n",
    "    transm = emul.GetAerosolsTransparencies(WL,am,ncomp,taus,betas)\n",
    "    ax.plot(WL,transm,color=hls_colors[idx],label=label)\n",
    "    \n",
    "ax.set_ylim(0,1)\n",
    "title = f\"SimpleAtmEmulator : One component aerosol transmission, am = {am0:.1f}\"\n",
    "ax.set_title(title)\n",
    "ax.set_xlabel(\"$\\lambda$ (nm)\")\n",
    "ax.set_ylabel(\"transmission\")\n",
    "# place a text box in upper left in axes coords\n",
    "#ax.text(0.5, 0.05, textboxstr, transform=ax.transAxes, fontsize=14,verticalalignment='bottom', bbox=textboxprops)\n",
    "ax.grid()\n",
    "ax.legend()"
   ]
  },
  {
   "cell_type": "markdown",
   "id": "d6ea0024-1f61-473c-bb92-80d116e6cd11",
   "metadata": {},
   "source": [
    "## Test all combined transmission"
   ]
  },
  {
   "cell_type": "code",
   "execution_count": null,
   "id": "cb0cfc51-25c4-4e84-affc-0e37b5fc1372",
   "metadata": {},
   "outputs": [],
   "source": [
    "hls_colors = sns.color_palette(\"hls\", NAM)\n",
    "sns.palplot(hls_colors)"
   ]
  },
  {
   "cell_type": "markdown",
   "id": "7b2fcc21-c0c2-4938-8644-791246b2216f",
   "metadata": {},
   "source": [
    "### Without aerosols"
   ]
  },
  {
   "cell_type": "code",
   "execution_count": null,
   "id": "f5017cfc-7b5a-4157-989f-dd7e72cd57b7",
   "metadata": {},
   "outputs": [],
   "source": [
    "pwv0 = 5.0\n",
    "oz0 = 500.\n",
    "\n",
    "fig, ax = plt.subplots()\n",
    "for idx,am in enumerate(airmasses):\n",
    "\n",
    "    transm = emul.GetAllTransparencies(WL,am,pwv0,oz0)\n",
    "    label = f\"am = {am:.1f}\"\n",
    "    ax.plot(WL,transm,color=hls_colors[idx],label=label)\n",
    "    \n",
    "ax.set_ylim(0,1)\n",
    "title = f\"SimpleAtmEmulator : combined transmission - no aerosol\"\n",
    "ax.set_title(title)\n",
    "ax.set_xlabel(\"$\\lambda$ (nm)\")\n",
    "ax.set_ylabel(\"transmission\")\n",
    "# place a text box in upper left in axes coords\n",
    "#ax.text(0.5, 0.05, textboxstr, transform=ax.transAxes, fontsize=14,verticalalignment='bottom', bbox=textboxprops)\n",
    "ax.grid()\n",
    "ax.legend()"
   ]
  },
  {
   "cell_type": "markdown",
   "id": "08804b26-1052-41cd-afc7-50c021f54a37",
   "metadata": {},
   "source": [
    "### With aerosols"
   ]
  },
  {
   "cell_type": "code",
   "execution_count": null,
   "id": "fe72a255-134d-4215-9f41-4bbd23ebc91a",
   "metadata": {},
   "outputs": [],
   "source": [
    "wv0 = 5.0\n",
    "oz0 = 500.\n",
    "ncomp=1\n",
    "taus= [0.02]\n",
    "betas = [-1]\n",
    "\n",
    "fig, ax = plt.subplots()\n",
    "\n",
    "for idx,am in enumerate(airmasses):\n",
    "\n",
    "    transm = emul.GetAllTransparencies(WL,am,pwv0,oz0,ncomp=ncomp, taus=taus, betas=betas, flagAerosols=True)\n",
    "    transmnoaer = emul.GetAllTransparencies(WL,am,pwv0,oz0)\n",
    "    label = f\"am = {am:.1f}\"\n",
    "    ax.plot(WL,transm,color=hls_colors[idx],label = label)\n",
    "    ax.plot(WL,transmnoaer,\":\",color=hls_colors[idx])\n",
    "    \n",
    "ax.set_ylim(0,1)\n",
    "title = f\"SimpleAtmEmulator : combined transmission - with/without aerosol\"\n",
    "ax.set_title(title)\n",
    "ax.set_xlabel(\"$\\lambda$ (nm)\")\n",
    "ax.set_ylabel(\"transmission\")\n",
    "# place a text box in upper left in axes coords\n",
    "#ax.text(0.5, 0.05, textboxstr, transform=ax.transAxes, fontsize=14,verticalalignment='bottom', bbox=textboxprops)\n",
    "ax.grid()\n",
    "ax.legend()"
   ]
  }
 ],
 "metadata": {
  "kernelspec": {
   "display_name": "conda_py310",
   "language": "python",
   "name": "conda_py310"
  },
  "language_info": {
   "codemirror_mode": {
    "name": "ipython",
    "version": 3
   },
   "file_extension": ".py",
   "mimetype": "text/x-python",
   "name": "python",
   "nbconvert_exporter": "python",
   "pygments_lexer": "ipython3",
   "version": "3.10.12"
  },
  "vscode": {
   "interpreter": {
    "hash": "b002c99f66c5bb850ebba7ae0c2124f7695114407038504fe88ddf9182cfa7d8"
   }
  }
 },
 "nbformat": 4,
 "nbformat_minor": 5
}
